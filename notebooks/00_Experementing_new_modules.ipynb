{
 "cells": [
  {
   "cell_type": "code",
   "execution_count": 33,
   "id": "96bbf41c",
   "metadata": {},
   "outputs": [],
   "source": [
    "import pandas as pd\n",
    "import numpy as np\n",
    "import re\n",
    "\n",
    "# importing package\n",
    "from profanity import profanity\n",
    "from better_profanity import profanity as better_profanity\n",
    "  "
   ]
  },
  {
   "cell_type": "markdown",
   "id": "a5d4de54",
   "metadata": {},
   "source": [
    "### Reading preproccesed dataset of the negative reviews"
   ]
  },
  {
   "cell_type": "code",
   "execution_count": 25,
   "id": "3f39aa1c",
   "metadata": {},
   "outputs": [],
   "source": [
    "reviews= pd.read_csv(\"steam_negative_reviews-ENGLISH-preprocessed.csv\")"
   ]
  },
  {
   "cell_type": "code",
   "execution_count": 26,
   "id": "7483bb7d",
   "metadata": {},
   "outputs": [
    {
     "data": {
      "text/plain": [
       "Index(['app_id', 'app_name', 'review_id', 'language', 'review',\n",
       "       'timestamp_created', 'timestamp_updated', 'recommended',\n",
       "       'votes_helpful', 'votes_funny', 'weighted_vote_score', 'comment_count',\n",
       "       'steam_purchase', 'received_for_free', 'written_during_early_access',\n",
       "       'author.steamid', 'author.num_games_owned', 'author.num_reviews',\n",
       "       'author.playtime_forever', 'author.playtime_last_two_weeks',\n",
       "       'author.playtime_at_review', 'author.last_played'],\n",
       "      dtype='object')"
      ]
     },
     "execution_count": 26,
     "metadata": {},
     "output_type": "execute_result"
    }
   ],
   "source": [
    "reviews.columns"
   ]
  },
  {
   "cell_type": "code",
   "execution_count": 29,
   "id": "f20792dd",
   "metadata": {},
   "outputs": [],
   "source": [
    "reviews= reviews.loc[:,{'app_id', 'app_name', 'review_id', 'language', 'review', 'author.steamid'}]"
   ]
  },
  {
   "cell_type": "code",
   "execution_count": 90,
   "id": "67198fcf",
   "metadata": {},
   "outputs": [],
   "source": [
    "sample_reviews= reviews.iloc[:100,:]"
   ]
  },
  {
   "cell_type": "code",
   "execution_count": 91,
   "id": "1d431747",
   "metadata": {},
   "outputs": [
    {
     "name": "stderr",
     "output_type": "stream",
     "text": [
      "C:\\Users\\user\\AppData\\Local\\Temp/ipykernel_24188/1079758625.py:1: SettingWithCopyWarning: \n",
      "A value is trying to be set on a copy of a slice from a DataFrame.\n",
      "Try using .loc[row_indexer,col_indexer] = value instead\n",
      "\n",
      "See the caveats in the documentation: https://pandas.pydata.org/pandas-docs/stable/user_guide/indexing.html#returning-a-view-versus-a-copy\n",
      "  sample_reviews[\"is_toxic\"]= sample_reviews['review'].apply(lambda x: int(1) if profanity.contains_profanity(str(x)) else int(0))\n"
     ]
    }
   ],
   "source": [
    "sample_reviews[\"is_toxic\"]= sample_reviews['review'].apply(lambda x: int(1) if profanity.contains_profanity(str(x)) else int(0))"
   ]
  },
  {
   "cell_type": "code",
   "execution_count": 96,
   "id": "5629252a",
   "metadata": {},
   "outputs": [],
   "source": [
    "x = pd.DataFrame(sample_reviews.groupby([ 'author.steamid'])['is_toxic'].agg('sum'))"
   ]
  },
  {
   "cell_type": "code",
   "execution_count": 99,
   "id": "7ae17a72",
   "metadata": {},
   "outputs": [
    {
     "data": {
      "text/html": [
       "<div>\n",
       "<style scoped>\n",
       "    .dataframe tbody tr th:only-of-type {\n",
       "        vertical-align: middle;\n",
       "    }\n",
       "\n",
       "    .dataframe tbody tr th {\n",
       "        vertical-align: top;\n",
       "    }\n",
       "\n",
       "    .dataframe thead th {\n",
       "        text-align: right;\n",
       "    }\n",
       "</style>\n",
       "<table border=\"1\" class=\"dataframe\">\n",
       "  <thead>\n",
       "    <tr style=\"text-align: right;\">\n",
       "      <th></th>\n",
       "      <th>is_toxic</th>\n",
       "    </tr>\n",
       "    <tr>\n",
       "      <th>author.steamid</th>\n",
       "      <th></th>\n",
       "    </tr>\n",
       "  </thead>\n",
       "  <tbody>\n",
       "    <tr>\n",
       "      <th>76561197961763998</th>\n",
       "      <td>1</td>\n",
       "    </tr>\n",
       "    <tr>\n",
       "      <th>76561197968231742</th>\n",
       "      <td>0</td>\n",
       "    </tr>\n",
       "    <tr>\n",
       "      <th>76561197968953641</th>\n",
       "      <td>0</td>\n",
       "    </tr>\n",
       "    <tr>\n",
       "      <th>76561197970362176</th>\n",
       "      <td>0</td>\n",
       "    </tr>\n",
       "    <tr>\n",
       "      <th>76561197970721560</th>\n",
       "      <td>0</td>\n",
       "    </tr>\n",
       "    <tr>\n",
       "      <th>...</th>\n",
       "      <td>...</td>\n",
       "    </tr>\n",
       "    <tr>\n",
       "      <th>76561198987946210</th>\n",
       "      <td>0</td>\n",
       "    </tr>\n",
       "    <tr>\n",
       "      <th>76561199006384271</th>\n",
       "      <td>0</td>\n",
       "    </tr>\n",
       "    <tr>\n",
       "      <th>76561199013170832</th>\n",
       "      <td>0</td>\n",
       "    </tr>\n",
       "    <tr>\n",
       "      <th>76561199083149907</th>\n",
       "      <td>0</td>\n",
       "    </tr>\n",
       "    <tr>\n",
       "      <th>76561199085186074</th>\n",
       "      <td>1</td>\n",
       "    </tr>\n",
       "  </tbody>\n",
       "</table>\n",
       "<p>100 rows × 1 columns</p>\n",
       "</div>"
      ],
      "text/plain": [
       "                   is_toxic\n",
       "author.steamid             \n",
       "76561197961763998         1\n",
       "76561197968231742         0\n",
       "76561197968953641         0\n",
       "76561197970362176         0\n",
       "76561197970721560         0\n",
       "...                     ...\n",
       "76561198987946210         0\n",
       "76561199006384271         0\n",
       "76561199013170832         0\n",
       "76561199083149907         0\n",
       "76561199085186074         1\n",
       "\n",
       "[100 rows x 1 columns]"
      ]
     },
     "execution_count": 99,
     "metadata": {},
     "output_type": "execute_result"
    }
   ],
   "source": [
    "x"
   ]
  },
  {
   "cell_type": "code",
   "execution_count": 98,
   "id": "13daad3e",
   "metadata": {},
   "outputs": [
    {
     "data": {
      "text/html": [
       "<div>\n",
       "<style scoped>\n",
       "    .dataframe tbody tr th:only-of-type {\n",
       "        vertical-align: middle;\n",
       "    }\n",
       "\n",
       "    .dataframe tbody tr th {\n",
       "        vertical-align: top;\n",
       "    }\n",
       "\n",
       "    .dataframe thead th {\n",
       "        text-align: right;\n",
       "    }\n",
       "</style>\n",
       "<table border=\"1\" class=\"dataframe\">\n",
       "  <thead>\n",
       "    <tr style=\"text-align: right;\">\n",
       "      <th></th>\n",
       "      <th>review</th>\n",
       "      <th>app_name</th>\n",
       "      <th>author.steamid</th>\n",
       "      <th>language</th>\n",
       "      <th>review_id</th>\n",
       "      <th>app_id</th>\n",
       "      <th>is_toxic</th>\n",
       "      <th>x</th>\n",
       "    </tr>\n",
       "  </thead>\n",
       "  <tbody>\n",
       "    <tr>\n",
       "      <th>0</th>\n",
       "      <td>they certainly dumbed down the series since th...</td>\n",
       "      <td>The Witcher 3: Wild Hunt</td>\n",
       "      <td>76561198010955177</td>\n",
       "      <td>english</td>\n",
       "      <td>85155206</td>\n",
       "      <td>292030</td>\n",
       "      <td>1</td>\n",
       "      <td>NaN</td>\n",
       "    </tr>\n",
       "    <tr>\n",
       "      <th>1</th>\n",
       "      <td>they certainly dumbed down the series since th...</td>\n",
       "      <td>The Witcher 3: Wild Hunt</td>\n",
       "      <td>76561198010955177</td>\n",
       "      <td>english</td>\n",
       "      <td>85155206</td>\n",
       "      <td>292030</td>\n",
       "      <td>1</td>\n",
       "      <td>NaN</td>\n",
       "    </tr>\n",
       "    <tr>\n",
       "      <th>2</th>\n",
       "      <td>they certainly dumbed down the series since th...</td>\n",
       "      <td>The Witcher 3: Wild Hunt</td>\n",
       "      <td>76561198010955177</td>\n",
       "      <td>english</td>\n",
       "      <td>85155206</td>\n",
       "      <td>292030</td>\n",
       "      <td>1</td>\n",
       "      <td>NaN</td>\n",
       "    </tr>\n",
       "    <tr>\n",
       "      <th>3</th>\n",
       "      <td>they certainly dumbed down the series since th...</td>\n",
       "      <td>The Witcher 3: Wild Hunt</td>\n",
       "      <td>76561198010955177</td>\n",
       "      <td>english</td>\n",
       "      <td>85155206</td>\n",
       "      <td>292030</td>\n",
       "      <td>1</td>\n",
       "      <td>NaN</td>\n",
       "    </tr>\n",
       "    <tr>\n",
       "      <th>4</th>\n",
       "      <td>they certainly dumbed down the series since th...</td>\n",
       "      <td>The Witcher 3: Wild Hunt</td>\n",
       "      <td>76561198010955177</td>\n",
       "      <td>english</td>\n",
       "      <td>85155206</td>\n",
       "      <td>292030</td>\n",
       "      <td>1</td>\n",
       "      <td>NaN</td>\n",
       "    </tr>\n",
       "    <tr>\n",
       "      <th>...</th>\n",
       "      <td>...</td>\n",
       "      <td>...</td>\n",
       "      <td>...</td>\n",
       "      <td>...</td>\n",
       "      <td>...</td>\n",
       "      <td>...</td>\n",
       "      <td>...</td>\n",
       "      <td>...</td>\n",
       "    </tr>\n",
       "    <tr>\n",
       "      <th>5123</th>\n",
       "      <td>meh gameplay seems fine similar to others in t...</td>\n",
       "      <td>The Witcher 3: Wild Hunt</td>\n",
       "      <td>76561197991041376</td>\n",
       "      <td>english</td>\n",
       "      <td>83233603</td>\n",
       "      <td>292030</td>\n",
       "      <td>0</td>\n",
       "      <td>NaN</td>\n",
       "    </tr>\n",
       "    <tr>\n",
       "      <th>5124</th>\n",
       "      <td>meh gameplay seems fine similar to others in t...</td>\n",
       "      <td>The Witcher 3: Wild Hunt</td>\n",
       "      <td>76561197991041376</td>\n",
       "      <td>english</td>\n",
       "      <td>83233603</td>\n",
       "      <td>292030</td>\n",
       "      <td>0</td>\n",
       "      <td>NaN</td>\n",
       "    </tr>\n",
       "    <tr>\n",
       "      <th>5125</th>\n",
       "      <td>meh gameplay seems fine similar to others in t...</td>\n",
       "      <td>The Witcher 3: Wild Hunt</td>\n",
       "      <td>76561197991041376</td>\n",
       "      <td>english</td>\n",
       "      <td>83233603</td>\n",
       "      <td>292030</td>\n",
       "      <td>0</td>\n",
       "      <td>NaN</td>\n",
       "    </tr>\n",
       "    <tr>\n",
       "      <th>5126</th>\n",
       "      <td>meh gameplay seems fine similar to others in t...</td>\n",
       "      <td>The Witcher 3: Wild Hunt</td>\n",
       "      <td>76561197991041376</td>\n",
       "      <td>english</td>\n",
       "      <td>83233603</td>\n",
       "      <td>292030</td>\n",
       "      <td>0</td>\n",
       "      <td>NaN</td>\n",
       "    </tr>\n",
       "    <tr>\n",
       "      <th>5127</th>\n",
       "      <td>meh gameplay seems fine similar to others in t...</td>\n",
       "      <td>The Witcher 3: Wild Hunt</td>\n",
       "      <td>76561197991041376</td>\n",
       "      <td>english</td>\n",
       "      <td>83233603</td>\n",
       "      <td>292030</td>\n",
       "      <td>0</td>\n",
       "      <td>NaN</td>\n",
       "    </tr>\n",
       "  </tbody>\n",
       "</table>\n",
       "<p>5128 rows × 8 columns</p>\n",
       "</div>"
      ],
      "text/plain": [
       "                                                 review  \\\n",
       "0     they certainly dumbed down the series since th...   \n",
       "1     they certainly dumbed down the series since th...   \n",
       "2     they certainly dumbed down the series since th...   \n",
       "3     they certainly dumbed down the series since th...   \n",
       "4     they certainly dumbed down the series since th...   \n",
       "...                                                 ...   \n",
       "5123  meh gameplay seems fine similar to others in t...   \n",
       "5124  meh gameplay seems fine similar to others in t...   \n",
       "5125  meh gameplay seems fine similar to others in t...   \n",
       "5126  meh gameplay seems fine similar to others in t...   \n",
       "5127  meh gameplay seems fine similar to others in t...   \n",
       "\n",
       "                      app_name     author.steamid language  review_id  app_id  \\\n",
       "0     The Witcher 3: Wild Hunt  76561198010955177  english   85155206  292030   \n",
       "1     The Witcher 3: Wild Hunt  76561198010955177  english   85155206  292030   \n",
       "2     The Witcher 3: Wild Hunt  76561198010955177  english   85155206  292030   \n",
       "3     The Witcher 3: Wild Hunt  76561198010955177  english   85155206  292030   \n",
       "4     The Witcher 3: Wild Hunt  76561198010955177  english   85155206  292030   \n",
       "...                        ...                ...      ...        ...     ...   \n",
       "5123  The Witcher 3: Wild Hunt  76561197991041376  english   83233603  292030   \n",
       "5124  The Witcher 3: Wild Hunt  76561197991041376  english   83233603  292030   \n",
       "5125  The Witcher 3: Wild Hunt  76561197991041376  english   83233603  292030   \n",
       "5126  The Witcher 3: Wild Hunt  76561197991041376  english   83233603  292030   \n",
       "5127  The Witcher 3: Wild Hunt  76561197991041376  english   83233603  292030   \n",
       "\n",
       "      is_toxic   x  \n",
       "0            1 NaN  \n",
       "1            1 NaN  \n",
       "2            1 NaN  \n",
       "3            1 NaN  \n",
       "4            1 NaN  \n",
       "...        ...  ..  \n",
       "5123         0 NaN  \n",
       "5124         0 NaN  \n",
       "5125         0 NaN  \n",
       "5126         0 NaN  \n",
       "5127         0 NaN  \n",
       "\n",
       "[5128 rows x 8 columns]"
      ]
     },
     "execution_count": 98,
     "metadata": {},
     "output_type": "execute_result"
    }
   ],
   "source": [
    "sample_reviews.merge(x)"
   ]
  },
  {
   "cell_type": "code",
   "execution_count": null,
   "id": "bb5886e7",
   "metadata": {},
   "outputs": [],
   "source": [
    "sample_reviews['review'].apply(lambda x: int(1) if profanity.contains_profanity(str(x)) else int(0))"
   ]
  },
  {
   "cell_type": "code",
   "execution_count": 108,
   "id": "220d776d",
   "metadata": {},
   "outputs": [
    {
     "name": "stderr",
     "output_type": "stream",
     "text": [
      "C:\\Users\\user\\AppData\\Local\\Temp/ipykernel_24188/1396433953.py:1: SettingWithCopyWarning: \n",
      "A value is trying to be set on a copy of a slice from a DataFrame.\n",
      "Try using .loc[row_indexer,col_indexer] = value instead\n",
      "\n",
      "See the caveats in the documentation: https://pandas.pydata.org/pandas-docs/stable/user_guide/indexing.html#returning-a-view-versus-a-copy\n",
      "  sample_reviews[\"censored_review\"]= sample_reviews[\"review\"].apply(lambda x: better_profanity.censor(str(x)))\n"
     ]
    }
   ],
   "source": [
    "sample_reviews[\"censored_review\"]= sample_reviews[\"review\"].apply(lambda x: better_profanity.censor(str(x)))"
   ]
  },
  {
   "cell_type": "code",
   "execution_count": 109,
   "id": "34f6724e",
   "metadata": {},
   "outputs": [
    {
     "data": {
      "text/plain": [
       "0     they certainly dumbed down the series since th...\n",
       "1     terribly bugs keeps kicking me out to home scr...\n",
       "2     while there is a lot of content the game loves...\n",
       "3     badbadbadbadbadbadbadbadbadbadbadbadbadbadbadb...\n",
       "4     after serious consideration i think this game ...\n",
       "                            ...                        \n",
       "95                                               boring\n",
       "96    hey it's me again with apparently i have to ra...\n",
       "97    horrible pc port start the tutorial and have s...\n",
       "98     b something between good and bad /b it is a g...\n",
       "99    meh gameplay seems fine similar to others in t...\n",
       "Name: censored_review, Length: 100, dtype: object"
      ]
     },
     "execution_count": 109,
     "metadata": {},
     "output_type": "execute_result"
    }
   ],
   "source": [
    "sample_reviews[\"censored_review\"]"
   ]
  },
  {
   "cell_type": "code",
   "execution_count": 75,
   "id": "12b425b6",
   "metadata": {},
   "outputs": [
    {
     "data": {
      "text/plain": [
       "100"
      ]
     },
     "execution_count": 75,
     "metadata": {},
     "output_type": "execute_result"
    }
   ],
   "source": [
    "(pd.Series(sample_reviews.groupby([\"author.steamid\"])[\"is_toxic\"].sum()))"
   ]
  },
  {
   "cell_type": "code",
   "execution_count": 19,
   "id": "8d1c215b",
   "metadata": {},
   "outputs": [
    {
     "name": "stdout",
     "output_type": "stream",
     "text": [
      "True \n",
      " What the **** are you doing?\n"
     ]
    }
   ],
   "source": [
    "# text to be censored\n",
    "text = \"What the shit are you doing?\" #I'm very sorry!\n",
    "  \n",
    "# do censoring\n",
    "censored_profanity= profanity.contains_profanity(\"this game is fucking good\") #Deeply sorry again!\n",
    "censored_better_profanity = better_profanity.censor(text)\n",
    "# view output\n",
    "print(censored_profanity, \"\\n\", censored_better_profanity)"
   ]
  },
  {
   "cell_type": "code",
   "execution_count": 106,
   "id": "07223c60",
   "metadata": {},
   "outputs": [
    {
     "data": {
      "text/plain": [
       "False"
      ]
     },
     "execution_count": 106,
     "metadata": {},
     "output_type": "execute_result"
    }
   ],
   "source": [
    "profanity.contains_profanity(\"this game is good\")"
   ]
  },
  {
   "cell_type": "code",
   "execution_count": 100,
   "id": "fd667303",
   "metadata": {},
   "outputs": [
    {
     "data": {
      "text/plain": [
       "'What the **** are you doing?'"
      ]
     },
     "execution_count": 100,
     "metadata": {},
     "output_type": "execute_result"
    }
   ],
   "source": [
    "better_profanity.censor(text)"
   ]
  },
  {
   "cell_type": "markdown",
   "id": "a77b1667",
   "metadata": {},
   "source": [
    "#### Sample reviews"
   ]
  },
  {
   "cell_type": "markdown",
   "id": "751ac22b",
   "metadata": {},
   "source": [
    "while there is a lot of content the game loves to waste your time by filling huge amounts of time with mindless/idle activities such as riding your horse from point a to point b or having to walk to a signpost to fast travel there are also tons of filler quests that have no impact on the story at all and boil down to killing a few monsters on a positive note gwent is the best minigame in any game i've played however after    hours i was already finding myself bored of the dull combat and repetitive quest design i eventually added mods to try to improve the experience multiple quest icons fast travel from anywhere other misc qol mods but even after adding these basic features that should have been in the game in the first place it still was not compelling enough to continue "
   ]
  },
  {
   "cell_type": "markdown",
   "id": "684e7ee9",
   "metadata": {},
   "source": [
    "did not enjoy this game main questline is too boring as it feels repetitive in order to find someone you have to find another then find something for that someone and repeat i did not enjoy the health mechanism and i would have liked a more customisable armor set where you can manually do stuff to alter the armor stats based on your level lastly the levelling up system is so **** if i level up i would like something like runescape where you can focus on different skills and there is a huge variety there in this game there isnt much skills to work on and even if you do unlock skills you can only use a certain number  /   no recommendo"
   ]
  }
 ],
 "metadata": {
  "interpreter": {
   "hash": "55c50e57b5ff80c9abead7ba658cb835658ed2573a847f0829416b7414a9d431"
  },
  "kernelspec": {
   "display_name": "Python 3 (ipykernel)",
   "language": "python",
   "name": "python3"
  },
  "language_info": {
   "codemirror_mode": {
    "name": "ipython",
    "version": 3
   },
   "file_extension": ".py",
   "mimetype": "text/x-python",
   "name": "python",
   "nbconvert_exporter": "python",
   "pygments_lexer": "ipython3",
   "version": "3.8.10"
  }
 },
 "nbformat": 4,
 "nbformat_minor": 5
}
